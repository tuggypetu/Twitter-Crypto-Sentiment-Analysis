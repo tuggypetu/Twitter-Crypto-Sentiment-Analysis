{
 "cells": [
  {
   "cell_type": "code",
   "execution_count": null,
   "outputs": [],
   "source": [],
   "metadata": {
    "collapsed": false,
    "pycharm": {
     "name": "#%%\n"
    }
   }
  },
  {
   "cell_type": "code",
   "execution_count": 1,
   "outputs": [],
   "source": [
    "# libraries for importing and editing Twitter tweets\n",
    "import tweepy\n",
    "from textblob import TextBlob\n",
    "from wordcloud import WordCloud\n",
    "import re\n",
    "\n",
    "# dataframe nad numbers libraries\n",
    "import pandas as pd\n",
    "import numpy as np\n",
    "\n",
    "# visualisation libraries\n",
    "import matplotlib.pyplot as plt\n",
    "import seaborn as sns\n",
    "\n",
    "# crypto-coins api\n",
    "import cryptocompare"
   ],
   "metadata": {
    "collapsed": false,
    "pycharm": {
     "name": "#%%\n"
    }
   }
  },
  {
   "cell_type": "code",
   "execution_count": 1,
   "outputs": [],
   "source": [],
   "metadata": {
    "collapsed": false,
    "pycharm": {
     "name": "#%%\n"
    }
   }
  },
  {
   "cell_type": "code",
   "execution_count": 2,
   "outputs": [],
   "source": [
    "api_log = pd.read_csv('twitter_api_login.csv')"
   ],
   "metadata": {
    "collapsed": false,
    "pycharm": {
     "name": "#%%\n"
    }
   }
  },
  {
   "cell_type": "code",
   "execution_count": 3,
   "outputs": [],
   "source": [
    "# Twitter API credentials\n",
    "api_key = api_log.iloc[0, 0]\n",
    "api_key_secret = api_log.iloc[0, 1]\n",
    "bearer_token = api_log.iloc[0, 2]\n",
    "access_token = api_log.iloc[0, 3]\n",
    "access_token_secret = api_log.iloc[0, 4]"
   ],
   "metadata": {
    "collapsed": false,
    "pycharm": {
     "name": "#%%\n"
    }
   }
  },
  {
   "cell_type": "code",
   "execution_count": 4,
   "outputs": [],
   "source": [
    "# Create authentication object\n",
    "authenticate = tweepy.OAuthHandler(api_key, api_key_secret)\n",
    "\n",
    "# Set access token and access token secret\n",
    "authenticate.set_access_token(access_token, access_token_secret)\n",
    "\n",
    "# create the API object while passing in the auth information\n",
    "api = tweepy.API(authenticate, wait_on_rate_limit=True)"
   ],
   "metadata": {
    "collapsed": false,
    "pycharm": {
     "name": "#%%\n"
    }
   }
  },
  {
   "cell_type": "code",
   "execution_count": 5,
   "outputs": [
    {
     "data": {
      "text/plain": "'&api_key=c22260e3802579ea1080ec1830c1b4ec07f2c449b47b21ab632e44664c102746'"
     },
     "execution_count": 5,
     "metadata": {},
     "output_type": "execute_result"
    }
   ],
   "source": [
    "cryptocompare.cryptocompare._set_api_key_parameter('c22260e3802579ea1080ec1830c1b4ec07f2c449b47b21ab632e44664c102746')"
   ],
   "metadata": {
    "collapsed": false,
    "pycharm": {
     "name": "#%%\n"
    }
   }
  },
  {
   "cell_type": "code",
   "execution_count": 6,
   "outputs": [
    {
     "name": "stdout",
     "output_type": "stream",
     "text": [
      "8494\n"
     ]
    },
    {
     "data": {
      "text/plain": "[(7872, 'CateCoin'),\n (7873, 'Catgirl'),\n (7874, 'DogeZilla'),\n (7875, 'Taboo Token'),\n (7876, 'Aurory'),\n (7877, 'Gods Unchained'),\n (7878, 'Green Shiba Inu'),\n (7879, 'Bitspawn'),\n (7880, 'Pist Trust'),\n (7881, 'Pando'),\n (7882, 'Mines of Dalarnia'),\n (7883, 'Space SIP'),\n (7884, 'Mononoke Inu'),\n (7885, 'Virtue Poker Points'),\n (7886, 'Privapp Network'),\n (7887, 'Pocoland'),\n (7888, 'Super Floki'),\n (7889, 'ENVOY'),\n (7890, 'Planet Finance'),\n (7891, 'NEET Finance'),\n (7892, 'Tranchess'),\n (7893, 'Immutable X'),\n (7894, 'Bifrost Native Coin'),\n (7895, 'Merit Circle'),\n (7896, 'Mist'),\n (7897, 'HurricaneSwap Token'),\n (7898, 'Nobility'),\n (7899, 'YOI SHIBA INU'),\n (7900, 'NFTb'),\n (7901, 'Wifedoge'),\n (7902, 'Idle Mystic'),\n (7903, 'Round Dollar'),\n (7904, 'BTRIPS'),\n (7905, 'Animal Token'),\n (7906, 'Identity'),\n (7907, 'Shibance Token'),\n (7908, 'Ridotto'),\n (7909, 'Nasa Doge'),\n (7910, 'Fastswap'),\n (7911, 'AetherV2'),\n (7912, 'Tiki Token'),\n (7913, 'Parabolic'),\n (7914, 'LaunchZone'),\n (7915, 'iBNB'),\n (7916, 'Brokoli Token'),\n (7917, 'MemeWars (MWAR)'),\n (7918, 'Crypto BRL'),\n (7919, 'APYSwap'),\n (7920, 'Avaxlauncher'),\n (7921, 'Pera Finance'),\n (7922, 'SHILL Token'),\n (7923, 'Augmented Finance'),\n (7924, 'MetaWars'),\n (7925, 'Wonderland'),\n (7926, 'Pollchain'),\n (7927, 'Lotus Capital'),\n (7928, 'BinaryX'),\n (7929, 'Digital Bank of Africa'),\n (7930, 'Shiba Mom'),\n (7931, 'Cellframe'),\n (7932, 'Cryptonovae'),\n (7933, 'Omni Real Estate Token'),\n (7934, 'Etherconnect'),\n (7935, 'Blocks Space'),\n (7936, 'CatzCoin'),\n (7937, 'FNDZ Token'),\n (7938, 'KCC MemePad'),\n (7939, 'ForeverBNB'),\n (7940, 'Quidax'),\n (7941, 'Empire Token'),\n (7942, 'Sound Coin'),\n (7943, 'Dreams Quest'),\n (7944, 'Snake Token'),\n (7945, 'Standard Token'),\n (7946, 'Notional Finance'),\n (7947, 'MobieCoin'),\n (7948, 'BNPL Pay'),\n (7949, 'Cryowar Token'),\n (7950, 'Forefront'),\n (7951, 'DFSocial Gaming'),\n (7952, 'Solend'),\n (7953, 'Wilder World'),\n (7954, 'ZUNA'),\n (7956, 'Kryptomon'),\n (7957, 'Contracto'),\n (7958, 'Merkle Network'),\n (7959, 'BnbHeroes Token'),\n (7960, 'REUCOIN'),\n (7961, 'CryptoMines Eternal'),\n (7962, 'The Doge NFT'),\n (7963, 'pSTAKE Staked ATOM'),\n (7964, 'BaconDAO (BACON)'),\n (7965, 'pSTAKE Staked XPRT'),\n (7966, 'DNAxCAT'),\n (7967, 'XDEFI'),\n (7968, 'Doge Dash'),\n (7969, 'BLOCKS'),\n (7970, 'GM'),\n (7971, 'Boba Network'),\n (7972, 'agEUR'),\n (7973, 'ANGLE'),\n (7974, 'Feisty Doge NFT'),\n (7975, 'MetaCat'),\n (7976, 'NearPad'),\n (7977, 'LeagueDAO Governance Token'),\n (7978, 'SnoopDAO'),\n (7979, 'Yel.Finance'),\n (7980, 'MARS4'),\n (7981, 'Stakeborg DAO'),\n (7982, 'DVF'),\n (7983, 'Strips Finance'),\n (7984, 'Manifold Finance'),\n (7985, 'SW DAO'),\n (7986, 'Lympo Market Token'),\n (7987, 'Gorilla Inu'),\n (7988, 'SpaceY 2025'),\n (7989, 'Demole'),\n (7990, 'Option Panda Platform'),\n (7991, 'UFO Gaming'),\n (7992, 'Hero Arena'),\n (7993, 'AVNRich'),\n (7994, 'Wanaka Farm WAIRERE Token'),\n (7995, 'SnowCrash Token'),\n (7996, 'Cryptogodz'),\n (7997, 'DareNFT'),\n (7998, 'ParaSwap'),\n (7999, 'FC Porto'),\n (8000, 'Revault Network'),\n (8001, 'NFT Champions'),\n (8002, 'xNFT Protocol'),\n (8003, 'Knit Finance'),\n (8004, 'Throne'),\n (8005, 'Rocki'),\n (8006, 'Gaia Everworld'),\n (8007, 'Genopets'),\n (8008, 'Bird.Money'),\n (8009, 'Sunny Aggregator'),\n (8010, 'GMCoin'),\n (8011, 'GreenTrust'),\n (8012, 'Plug Chain'),\n (8013, 'MarsRise'),\n (8015, 'YIN Finance'),\n (8016, 'Ramifi Protocol'),\n (8017, 'ShibElon'),\n (8018, 'Crypto Perx'),\n (8019, 'Melodity'),\n (8020, 'Bosu Inu'),\n (8021, 'Pintu Token'),\n (8022, 'Neos Credits'),\n (8023, 'Appeal dollar'),\n (8024, 'Wrapped NewYorkCoin'),\n (8025, 'Humans'),\n (8026, 'Symbiosis Finance'),\n (8027, 'Biconomy'),\n (8028, 'Shiryo-Inu'),\n (8029, 'FREN'),\n (8030, 'Spaceswap MILK2'),\n (8031, 'Spaceswap SHAKE'),\n (8032, 'Bitcoin Latinum'),\n (8033, 'Omicron'),\n (8034, 'Calamari Network'),\n (8035, 'Brickken'),\n (8036, 'Santos FC Fan Token'),\n (8037, 'TESKA Modern Accounting'),\n (8038, 'xHashtag'),\n (8039, 'CryptoCars'),\n (8040, 'FireStarter'),\n (8041, 'Unicly'),\n (8042, 'KILT Protocol'),\n (8043, 'Bittron'),\n (8044, 'StorX'),\n (8045, 'DEXA COIN'),\n (8046, 'PERI Finance'),\n (8047, 'MIMO Parallel Governance Token'),\n (8048, 'DeStorage'),\n (8049, 'Mochiswap'),\n (8050, 'GN'),\n (8051, 'Dogs Of Elon'),\n (8052, 'Triall'),\n (8053, 'HK Coin'),\n (8054, 'ConstitutionDAO'),\n (8055, 'DOSE'),\n (8056, 'PolyDoge'),\n (8057, 'LatteSwap'),\n (8058, 'Town Star'),\n (8059, 'Meme Inu'),\n (8060, 'The Open Network'),\n (8061, 'Charizard Inu'),\n (8062, 'XP Network'),\n (8063, 'Velhalla'),\n (8064, 'VVS Finance'),\n (8065, 'Realm'),\n (8066, 'GameX'),\n (8067, 'Parallel'),\n (8068, 'Molecular Future (ERC20)'),\n (8069, 'MonoX'),\n (8070, 'Green Mining Movement Token'),\n (8071, 'Don-key'),\n (8072, 'Governance OHM'),\n (8073, 'Staked Olympus'),\n (8074, 'Wrapped Staked Olympus'),\n (8075, 'Qube'),\n (8076, 'Enedex'),\n (8077, 'Wallet Pay'),\n (8078, 'FIAT DAO Token'),\n (8079, 'Ludo'),\n (8080, 'CrossWallet'),\n (8081, 'TrusterCoin'),\n (8082, 'Olympus v2'),\n (8083, 'Netcoincapital'),\n (8084, 'Leopard'),\n (8085, 'MINE Network'),\n (8086, 'Lovelace World'),\n (8087, 'Voxies'),\n (8088, 'Rikkei Finance'),\n (8089, 'Unbound Finance'),\n (8090, 'Zipmex Token'),\n (8091, 'Time and Space Traveller'),\n (8092, 'Spool DAO Token'),\n (8093, 'Colony'),\n (8094, 'Frodo Tech'),\n (8095, 'Vaiyo'),\n (8096, 'Unigrid'),\n (8097, 'TimeDAO'),\n (8098, 'DTravel'),\n (8099, 'Skippy Token'),\n (8100, 'Enotoken'),\n (8101, 'Tetrix Token'),\n (8102, 'Crypto Emergency'),\n (8103, 'Calvex'),\n (8104, 'CHEEMS INU'),\n (8105, 'Gacrux NFT'),\n (8106, 'Tr3zor'),\n (8107, 'Astra Guild Ventures'),\n (8108, 'Redacted Cartel'),\n (8109, 'Ethos Project'),\n (8110, 'Bridge$'),\n (8111, 'Decentralized Social'),\n (8112, 'Volcano Uni'),\n (8113, 'Bitcoin BR'),\n (8114, 'Guild of Guardians'),\n (8115, 'JFIN Coin'),\n (8116, 'MCS Token'),\n (8117, 'PDATA'),\n (8118, 'Kirobo'),\n (8119, 'Monnos'),\n (8121, 'GamesPad '),\n (8122, 'Mouse Haunt'),\n (8123, 'HeroPark'),\n (8124, 'SafeMoon V2'),\n (8125, 'Highstreet'),\n (8126, 'E21 Coin'),\n (8127, 'Nerve Finance'),\n (8128, 'WallStreetBets DApp'),\n (8129, 'GuildFi'),\n (8130, 'DeHorizon'),\n (8131, 'Staked Aave'),\n (8132, 'StakedZEN'),\n (8133, 'Moon Rabbit'),\n (8134, 'MonkeyBall'),\n (8135, 'DeFi Land'),\n (8136, 'Launchtok'),\n (8137, 'iBuffer Token'),\n (8138, 'Crafting Finance'),\n (8139, 'Mango protocol'),\n (8140, 'Recast1'),\n (8141, 'ShiBonk'),\n (8142, 'Marinade Staked SOL'),\n (8143, 'Serum Ecosystem Token'),\n (8144, 'Lido Staked SOL'),\n (8145, 'Synapse'),\n (8146, 'Inter Milan Fan Token'),\n (8147, 'Blocto Token'),\n (8148, 'GATENet'),\n (8149, 'Cypherium'),\n (8150, 'Lunr Token'),\n (8151, 'Arkadiko'),\n (8152, 'StarLaunch'),\n (8153, 'Realy Metaverse'),\n (8154, 'Tulip Protocol'),\n (8155, 'World of Defish'),\n (8156, 'Hachiko Inu Token'),\n (8157, 'Ponyo Impact'),\n (8158, 'Asia Coin'),\n (8159, '0.exchange'),\n (8160, 'VLaunch'),\n (8161, 'BitTorrent'),\n (8162, 'Nyantereum International'),\n (8163, 'NeoNomad Exchange'),\n (8164, 'Wrapped Matic'),\n (8165, 'ImpactXP'),\n (8166, 'Vader Protocol'),\n (8167, 'Kasta'),\n (8168, 'Rise of Defenders'),\n (8169, 'Luna Rush'),\n (8170, 'The Winkyverse'),\n (8171, 'Ftribe Fighters'),\n (8172, 'Covenant'),\n (8173, 'Shiba Dollars'),\n (8174, 'Phonon DAO '),\n (8175, 'WEB3 Inu'),\n (8176, 'Gamma Strategies'),\n (8177, 'ArtWallet'),\n (8178, 'Community Token'),\n (8180, 'Revuto'),\n (8181, 'Moonbeam'),\n (8182, 'Accel Defi'),\n (8183, 'Octopus Network'),\n (8184, 'Katana Inu'),\n (8185, 'Goldfinch'),\n (8186, 'Kintsugi'),\n (8187, 'RIZON'),\n (8188, 'Aurora'),\n (8189, 'WonderHero'),\n (8190, 'Solice'),\n (8191, 'Rainmaker Games'),\n (8192, 'Pocket Network'),\n (8193, 'Surviving Soldiers'),\n (8194, 'Juicebox'),\n (8195, 'OnlyCam'),\n (8196, 'Vagabond'),\n (8197, 'DEEPSPACE'),\n (8198, 'Lido wstETH'),\n (8199, 'Bankless BED Index'),\n (8200, 'New Silver Series 2 DROP'),\n (8201, 'Zamio'),\n (8202, 'Puli'),\n (8203, 'GhostMarket'),\n (8204, 'League of Kingdoms'),\n (8205, 'Numbers Protocol'),\n (8206, 'Polytrade'),\n (8207, 'Life Crypto'),\n (8208, 'AstroSwap'),\n (8209, 'EverGrowCoin'),\n (8210, 'Metabolic'),\n (8211, 'Shibnobi'),\n (8212, 'Avoteo'),\n (8213, 'Satoshi'),\n (8214, 'IONZ'),\n (8215, 'SOLARIX'),\n (8216, 'LooksRare'),\n (8217, 'Try.Finance'),\n (8218, 'Osmosis'),\n (8219, '0xDAO'),\n (8220, 'Blockasset'),\n (8221, 'ASH'),\n (8222, 'Abey'),\n (8223, 'Plugin'),\n (8224, 'enVoy DeFi'),\n (8225, 'Acala'),\n (8226, 'Astar'),\n (8227, 'Propeller'),\n (8228, 'Deesse'),\n (8229, 'Gari Network'),\n (8230, 'Meetple'),\n (8231, 'Chumbi Valley'),\n (8232, 'Dimitra'),\n (8233, 'FreeRossDAO'),\n (8234, 'SpaceFalcon'),\n (8235, 'RealLink'),\n (8236, 'IX Swap'),\n (8237, 'GMT Token'),\n (8238, 'MY Ceremonial Event'),\n (8239, 'Arker'),\n (8240, 'Frontrow '),\n (8241, 'MakiSwap'),\n (8242, 'Swash'),\n (8243, 'Netvrk'),\n (8244, 'fantomGO'),\n (8245, 'zkTube'),\n (8246, 'Propel Token'),\n (8247, 'SolRazr'),\n (8248, 'Infinite Launch'),\n (8249, 'ClearDAO'),\n (8250, 'Credefi'),\n (8251, 'RaceFi'),\n (8252, 'Coinweb'),\n (8253, 'dAppstore'),\n (8254, 'Clearpool'),\n (8255, 'Drone Coin'),\n (8256, 'Orca'),\n (8257, '1eco'),\n (8258, '1peco'),\n (8259, 'APEX Protocol'),\n (8260, 'ARTII Token'),\n (8261, 'Bit2Me'),\n (8262, 'Chain'),\n (8263, 'Chainge Finance'),\n (8264, 'Cindrum'),\n (8265, 'CrossFi'),\n (8266, 'Luxurious Pro Network Token'),\n (8267, 'MoonBet'),\n (8268, 'Tectonic'),\n (8269, 'Synesis One'),\n (8270, 'Hubble'),\n (8271, 'Atlas DEX'),\n (8272, 'Panther Protocol'),\n (8273, 'Trace Network Labs'),\n (8274, 'NEXTYPE Finance'),\n (8275, 'Ambire Wallet'),\n (8276, 'Lootex'),\n (8277, 'Bit Store'),\n (8278, 'Ninky'),\n (8279, 'BlokPad'),\n (8280, 'XAEA-Xii Token'),\n (8281, 'Digital Financial Exchange'),\n (8282, 'Baby Lambo Inu'),\n (8283, 'Cult DAO'),\n (8284, 'Cheesus'),\n (8285, 'Binance Wrapped DOT'),\n (8286, 'CoinRadr'),\n (8287, 'Business Age of Empires'),\n (8288, 'Specter Share'),\n (8289, 'Perion'),\n (8290, 'Onston'),\n (8291, 'Xcel Defi'),\n (8292, 'EnterButton'),\n (8293, 'Kommunitas'),\n (8294, 'Chainflix'),\n (8295, 'King Shiba'),\n (8296, 'Pacific'),\n (8297, 'Clifford Inu'),\n (8298, 'Fortress Lending'),\n (8299, 'Cultiplan'),\n (8300, 'Evident Proof Transaction Token'),\n (8301, 'Erugo World Coin'),\n (8302, 'Alkimi'),\n (8303, 'Only1'),\n (8304, 'VDV Token'),\n (8305, 'CryptoTycoon'),\n (8306, 'Junca Cash'),\n (8307, 'GPEX'),\n (8308, 'Icarus Network'),\n (8309, 'Kyrrex'),\n (8310, 'Meta Finance'),\n (8311, 'MiraQle'),\n (8312, 'NKCL Classic'),\n (8313, 'SOLBIT'),\n (8314, 'YeFi'),\n (8315, 'Zeptacoin'),\n (8316, 'Good Games Guild'),\n (8317, 'eGame'),\n (8318, 'MIKS COIN'),\n (8319, 'Survival Game Online'),\n (8320, 'Falcon Swaps'),\n (8321, 'Alpha DEX'),\n (8322, 'Metastrike'),\n (8323, 'Ertha'),\n (8324, 'Market Making Pro'),\n (8325, 'Fashion Coin'),\n (8326, 'GivingToServices SVS'),\n (8327, 'Ston'),\n (8328, 'Dirham Crypto'),\n (8329, 'MVP Coin'),\n (8330, 'Depo'),\n (8331, 'Evulus Token'),\n (8332, 'Position Token'),\n (8333, 'Monsters Clan'),\n (8334, 'Plastiks'),\n (8335, 'Lucky Block'),\n (8336, 'Trava Finance'),\n (8337, 'OnlyCumies'),\n (8338, 'Open Rights Exchange'),\n (8339, 'Yummy'),\n (8340, 'Bitgert'),\n (8341, 'Vodka Token'),\n (8342, 'Mr.FOX Token'),\n (8343, 'LEXIT'),\n (8344, 'Lovely Inu finance'),\n (8345, 'AFEN Blockchain'),\n (8346, 'The Crypto You'),\n (8347, 'AXL INU'),\n (8348, 'Avocado DAO'),\n (8349, 'BlockWRK'),\n (8350, 'Codi Finance'),\n (8351, 'ACU Platform'),\n (8352, 'Blockchain Euro Project'),\n (8353, 'Britto'),\n (8354, 'SappChat'),\n (8355, 'Thought'),\n (8356, 'Lunar'),\n (8357, 'Whole Earth Coin'),\n (8358, 'Zono Swap'),\n (8359, 'NFTY DeFi Protocol'),\n (8360, 'Bithashex'),\n (8361, 'Luffy'),\n (8362, 'Yucreat'),\n (8363, 'Crown Sovereign'),\n (8364, 'CryptoArt.Ai'),\n (8365, 'PDX Coin'),\n (8366, 'NOTA'),\n (8367, 'VIBLO'),\n (8368, 'Megatech'),\n (8369, 'Shoppi Coin'),\n (8370, 'Pawtocol'),\n (8371, 'Vox.Finance'),\n (8372, 'Concordium'),\n (8373, 'UniWorld'),\n (8374, 'Kalamint'),\n (8375, 'SwapAll'),\n (8376, 'Gennix'),\n (8377, 'PLEX'),\n (8378, 'KAINET'),\n (8379, 'Unido'),\n (8380, 'ImpulseVen'),\n (8381, 'Pilot'),\n (8382, 'PLC Ultima'),\n (8383, 'Realfinance Network'),\n (8384, 'Upfire'),\n (8385, 'OpenDAO'),\n (8386, 'Health Potion'),\n (8387, 'RevoNetwork'),\n (8388, 'Airdrop World'),\n (8389, 'Vera'),\n (8390, 'Giftedhands'),\n (8391, 'Antex'),\n (8392, 'MELX'),\n (8393, 'Porta'),\n (8394, 'Zuki Moba'),\n (8395, 'OOGI'),\n (8396, 'Twinci'),\n (8397, 'IjasCoin'),\n (8398, 'Piggy'),\n (8399, 'Unbanked'),\n (8400, 'AladdinDAO'),\n (8401, 'Tiger King'),\n (8402, 'Overlord'),\n (8403, \"People's Punk\"),\n (8404, 'iNFT Token'),\n (8405, 'Dash Diamond'),\n (8406, 'MooMonster'),\n (8407, 'Nexum'),\n (8408, 'Poken'),\n (8409, 'Hector Finance'),\n (8410, 'vEmpire DDAO'),\n (8411, 'Vita Inu'),\n (8412, 'DappRadar'),\n (8413, 'BlueSparrow Token'),\n (8414, 'ASPO Shards'),\n (8415, 'SENATE'),\n (8416, 'Bali Social Integrated'),\n (8417, 'VYNK Chain'),\n (8418, 'Kiba Inu'),\n (8419, 'Liquidus'),\n (8420, 'Egoras Rights'),\n (8421, 'GamingShiba'),\n (8422, 'DeVolution'),\n (8423, 'Retire Token'),\n (8424, 'Threshold Network Token'),\n (8425, 'Zombie Inu'),\n (8426, 'ERON'),\n (8427, 'Zelda Inu'),\n (8428, 'QuiverX'),\n (8429, 'bloXmove Token'),\n (8430, 'DBX'),\n (8431, 'Storage Area Network Anywhere'),\n (8432, 'Small Doge'),\n (8433, 'Meme Lordz'),\n (8434, 'Everdome'),\n (8435, 'Sapphire'),\n (8436, 'DumpBuster'),\n (8437, 'Asian Fintech'),\n (8438, 'DNFT Protocol'),\n (8439, 'Meta MVRS'),\n (8440, 'Furukuru'),\n (8441, 'Project Inverse'),\n (8442, 'Xfinite Entertainment Token'),\n (8443, 'Aquarius'),\n (8444, 'ThetaDrop'),\n (8445, 'Antis Inu'),\n (8446, 'DoubleDice'),\n (8447, 'GreenCoin.AI'),\n (8448, 'MagicCraft'),\n (8449, 'Rich Quack'),\n (8450, 'Ravendex'),\n (8451, 'Day By Day'),\n (8452, 'i Money Crypto'),\n (8453, 'All Coins Yield Capital'),\n (8454, 'SaunaFinance Token'),\n (8455, 'BillionHappiness'),\n (8456, 'OUD'),\n (8457, 'Half Pizza'),\n (8458, 'Rabet'),\n (8459, 'Mercor Finance'),\n (8460, 'MAI'),\n (8461, 'New Earth Order Money'),\n (8463, 'Legend of Fantasy War'),\n (8464, 'DogeCola'),\n (8465, 'Derived'),\n (8466, 'Restore Truth Token'),\n (8467, 'Gelato'),\n (8468, 'Yarloo'),\n (8469, 'GFORCE'),\n (8470, 'Nexus Dubai'),\n (8471, 'Wrapped TON Crystal'),\n (8472, 'Polker'),\n (8473, 'Zenith Chain'),\n (8474, 'Lil Floki'),\n (8475, 'Gro DAO Token'),\n (8476, 'Meta Ruffy'),\n (8477, 'Fabwelt'),\n (8478, 'MetaVisa'),\n (8479, 'ShibRWD'),\n (8480, 'Wrapped Metrix'),\n (8481, 'ITSMYNE'),\n (8482, 'SMD Coin'),\n (8483, 'Teddy Doge'),\n (8484, 'Plasma Finance'),\n (8485, 'UNQ'),\n (8486, 'GAMER'),\n (8487, 'Rec Token (REC)'),\n (8488, 'Waggle Network'),\n (8489, 'Warena'),\n (8490, 'Arti Project'),\n (8491, 'veDAO'),\n (8492, 'Carbon'),\n (8493, 'iMe Lab'),\n (8494, 'Creator Platform'),\n (8495, 'Blin Metaverse'),\n (8496, 'Meanfi'),\n (8497, 'Sidus'),\n (8498, 'ShoeFy'),\n (8499, 'NFTLaunch'),\n (8500, 'ALL.ART'),\n (8501, 'Lavaswap'),\n (8502, 'Titan Hunters'),\n (8503, 'GameZone'),\n (8504, 'Spookyswap'),\n (8505, 'Supe Infinity'),\n (8506, 'Spores Network'),\n (8507, 'XCarnival'),\n (8508, 'Guzzler'),\n (8509, 'Bitmic'),\n (8510, 'Shaman King Inu'),\n (8511, 'Alpine F1 Team Fan Token'),\n (8512, 'ZAMZAM'),\n (8513, 'Biswap'),\n (8514, 'OBRok'),\n (8515, 'cYFI'),\n (8516, 'cSUSHI'),\n (8517, 'cMKR'),\n (8518, 'cLINK'),\n (8519, 'cAAVE'),\n (8520, 'Scrooge Token'),\n (8521, 'Unique Utility Token'),\n (8522, 'Wakanda Inu'),\n (8523, 'HappyLand (HPL)'),\n (8524, 'Crypto Shield'),\n (8525, 'LavaX Labs'),\n (8526, 'UniX'),\n (8527, 'Tomb'),\n (8528, 'Alitas'),\n (8529, 'Dogeswap Token (HECO)'),\n (8530, 'Depth Token'),\n (8531, 'Platypus Finance'),\n (8532, 'Moon DAO'),\n (8533, 'Laqira Protocol'),\n (8534, 'Game Infinity'),\n (8536, 'ARCADE'),\n (8537, 'VCGamers'),\n (8538, 'MarhabaDeFi'),\n (8539, 'X2Y2'),\n (8540, 'PhotoChromic'),\n (8541, 'Spellfire'),\n (8542, 'Galaxy Fight Club'),\n (8543, 'Starly'),\n (8544, 'pSTAKE Finance'),\n (8545, 'RankerDao'),\n (8546, 'MetaGear'),\n (8547, 'MetaGaming Guild'),\n (8548, 'Ark Rivals'),\n (8549, 'Phaeton'),\n (8550, 'Quidd'),\n (8551, 'MoonLana'),\n (8552, 'DeFi Kingdoms'),\n (8553, 'Crypto Gaming United'),\n (8554, 'Shibabitcoin'),\n (8555, 'MOVE Network'),\n (8556, 'Vow'),\n (8558, 'Business Platform Tomato Coin'),\n (8559, 'BlueSparrowToken'),\n (8560, 'Duel Network'),\n (8561, 'Zyrri'),\n (8563, 'ApeCoin'),\n (8564, 'ESG Chain'),\n (8565, 'Hedron'),\n (8568, 'Kunci Coin'),\n (8569, 'Aimedis'),\n (8570, 'SmartLOX'),\n (8571, 'CaliCoin'),\n (8572, 'BRCP Token'),\n (8573, 'NitroEX'),\n (8574, 'ReSource Protocol'),\n (8575, 'Galactic Arena: The NFTverse'),\n (8576, 'Froyo Games'),\n (8577, 'SECONDS'),\n (8578, 'Bent Finance'),\n (8579, 'Tarot'),\n (8580, 'ROCO FINANCE'),\n (8581, 'Arcane Token'),\n (8582, 'MetaFabric'),\n (8583, 'NvirWorld'),\n (8584, 'Chainbing'),\n (8585, 'UltimoGG'),\n (8586, 'Caketools'),\n (8587, 'Annex Finance'),\n (8588, 'FrogSwap'),\n (8589, 'AssangeDAO'),\n (8590, 'AlinX'),\n (8591, 'Golden Doge'),\n (8592, 'MonsterQuest'),\n (8593, 'Moonai'),\n (8594, 'Apricot Finance'),\n (8595, 'Altair'),\n (8596, 'BonusCloud'),\n (8597, 'Bombcrypto'),\n (8598, 'BLACKHOLE PROTOCOL'),\n (8599, 'CropperFinance'),\n (8600, 'Bright Token'),\n (8601, 'Dragon Mainland Shards'),\n (8602, 'CoPuppy'),\n (8603, 'TaleCraft'),\n (8604, 'DeSpace Protocol'),\n (8605, 'TosDis'),\n (8606, 'Fanadise'),\n (8607, 'GYM Token'),\n (8608, 'Berry'),\n (8609, 'WaultSwap'),\n (8610, 'Gas DAO'),\n (8611, 'Gold Secured Currency'),\n (8612, 'Galaxy Heroes Coin'),\n (8613, 'GOAL token'),\n (8614, 'Glass Chain'),\n (8615, 'GoldMiner'),\n (8616, 'Beyond Protocol'),\n (8617, 'Parrot Protocol'),\n (8618, 'PsyOptions'),\n (8619, 'Planet Sandbox'),\n (8620, 'Tracer DAO'),\n (8621, 'Flux Token'),\n (8622, 'LEDGIS'),\n (8623, 'NFTY Token'),\n (8624, 'Milo Inu'),\n (8625, 'StarSharks'),\n (8626, 'Volt Inu'),\n (8627, 'Operon Origins'),\n (8628, 'Pexcoin'),\n (8629, 'Poollotto.finance'),\n (8630, 'Plasmonics'),\n (8631, 'Ronin'),\n (8632, 'Acether'),\n (8633, 'Candle'),\n (8634, 'EverRise'),\n (8635, 'Defi STOA'),\n (8636, 'Dagger'),\n (8637, 'NanoByte'),\n (8638, 'Umee'),\n (8639, 'TOR'),\n (8640, 'Varen'),\n (8641, 'Green Climate World'),\n (8642, 'Nym Token'),\n (8643, 'Witnet'),\n (8644, 'Terareum'),\n (8645, 'BTS Chain'),\n (8646, 'Fit&Beat'),\n (8647, 'Vent Finance'),\n (8648, 'Eyes Protocol'),\n (8649, 'MetaSoccer'),\n (8650, 'Retreeb'),\n (8651, 'Evanesco Network'),\n (8652, 'AVINOC'),\n (8653, 'Stader'),\n (8654, 'Raze Network'),\n (8655, 'Green App Development'),\n (8656, 'Bluetherium'),\n (8657, 'Mother of Memes'),\n (8658, 'Kuro'),\n (8659, 'TFS Token'),\n (8660, 'STEPN'),\n (8661, 'Marnotaur'),\n (8662, 'AWNEX token'),\n (8663, 'TripCandy'),\n (8664, 'Lox Network'),\n (8665, 'LoveChain'),\n (8666, 'ElysiumG'),\n (8667, 'Fayre'),\n (8668, 'AAG Ventures'),\n (8669, 'Voxel X Network'),\n (8670, 'rETH2'),\n (8671, 'Elvantis'),\n (8672, 'Islander'),\n (8673, 'Techpay'),\n (8674, 'KEEPs Coin'),\n (8675, 'Stargate Finance'),\n (8676, 'Bashoswap'),\n (8677, 'Heroes & Empires'),\n (8678, 'Iron Bank'),\n (8679, 'Jones DAO'),\n (8680, 'Dinosaureggs'),\n (8681, 'Arcona'),\n (8682, 'Kilo Shiba Inu'),\n (8683, 'Nether'),\n (8684, 'Uhive'),\n (8685, 'Fus'),\n (8686, 'Quras Token'),\n (8687, 'PKT'),\n (8688, 'Reflecto'),\n (8689, 'Goldario'),\n (8690, 'Truebit Protocol'),\n (8691, 'UPGRADE'),\n (8692, 'Xido Finance'),\n (8693, 'CoinField Coin'),\n (8694, 'Afrix'),\n (8695, 'DfiStarter'),\n (8696, 'Pepper Token'),\n (8697, 'Bone ShibaSwap (BONE)'),\n (8698, 'SmartNFT'),\n (8699, 'Upper Dollar'),\n (8700, 'Upper Euro'),\n (8701, 'Multichain'),\n (8702, 'Baddest Alpha Ape Bundle'),\n (8703, 'LORDS'),\n (8704, 'Jade Protocol'),\n (8705, 'GameFi Token'),\n (8706, 'Acet'),\n (8707, 'Gorilla Diamond'),\n (8708, 'X Protocol'),\n (8709, 'Streamr XDATA'),\n (8710, 'Pokemonio'),\n (8711, 'PP ALPHA DAO'),\n (8712, 'Metallurgy'),\n (8713, 'Fairy Forest'),\n (8714, 'Zirve Coin'),\n (8715, 'HeroesChained'),\n (8716, 'LIQ Protocol'),\n (8717, 'Infomatix'),\n (8718, 'Mastercoin'),\n (8719, 'Quantum Tech'),\n (8720, 'Probinex'),\n (8721, 'Baby Bali'),\n (8722, 'BRMV Token'),\n (8723, 'FileStar'),\n (8724, 'Wizards And Dragons'),\n (8725, 'Landshare'),\n (8726, 'Million'),\n (8727, 'Nosana'),\n (8728, 'WagyuSwap'),\n (8729, 'MoonieNFT'),\n (8730, 'Gamestarter'),\n (8731, 'Bitlocus'),\n (8732, 'handle.fi'),\n (8733, 'CyberDragon Gold'),\n (8734, 'Wrapped Zeniq (ETH)'),\n (8735, 'Wrapped Zeniq (BNB)'),\n (8736, 'MDsquare'),\n (8737, 'Epic Cash'),\n (8738, 'Quasacoin'),\n (8739, 'SUBX FINANCE LAB'),\n (8740, 'Neopin'),\n (8741, 'KPOP Coin'),\n (8742, 'Zebec Protocol'),\n (8743, 'KwikTrust'),\n (8744, 'Titano'),\n (8745, 'Scrooge'),\n (8746, 'Modicoin'),\n (8747, 'ChainCade'),\n (8748, 'Arsenal Fan Token'),\n (8749, 'TRYC'),\n (8750, 'Göztepe S.K. Fan Token'),\n (8751, 'Valencia CF Fan Token'),\n (8752, 'Alethea Artificial Liquid Intelligence Token'),\n (8753, 'Altered State Token'),\n (8754, 'ClassZZ'),\n (8755, 'Jetfuel Finance'),\n (8756, 'Influencer'),\n (8757, 'Napoli Fan Token'),\n (8758, 'BOJI Token'),\n (8759, 'Bobcoin'),\n (8760, 'Galaxy War'),\n (8761, 'UpOnly'),\n (8762, 'KList Protocol'),\n (8763, 'Telebets'),\n (8764, 'GMX'),\n (8765, 'Metablackout'),\n (8766, 'CryptoTanks'),\n (8767, 'MarsDAO'),\n (8768, 'Seedon'),\n (8769, 'Huobi BTC'),\n (8770, 'Metan Evolutions'),\n (8771, 'The Neko'),\n (8772, 'GROM'),\n (8773, 'Homerun'),\n (8774, 'Robo Inu Finance'),\n (8775, 'Chedda'),\n (8777, 'Solar'),\n (8778, 'First Ever NFT'),\n (8779, 'Dogey-Inu'),\n (8780, 'MetaDoge V2'),\n (8781, 'NuNet'),\n (8782, 'Endless Board Game'),\n (8783, 'Artyfact'),\n (8784, 'Animal Concerts'),\n (8785, 'MMFinance'),\n (8786, 'Polygon HBD'),\n (8787, 'Lumerin'),\n (8788, 'Scream'),\n (8789, 'Blockchain Brawlers'),\n (8790, 'VisionGame'),\n (8791, 'Holy Trinity'),\n (8792, 'Wrapped Flow'),\n (8793, 'Ludena Protocol'),\n (8794, 'Shiba Predator'),\n (8795, 'Magic'),\n (8796, 'Hkd.com Dao'),\n (8797, 'IndiGG'),\n (8798, '3X Long Zcash Token'),\n (8799, '3X Short Zcash Token'),\n (8800, '3X Long Graph Token Token'),\n (8801, '3X Short Graph Token Token'),\n (8802, '1X Short AscendEx Token (BTMX) Token'),\n (8803, '3X Long AscendEx Token (BTMX) Token'),\n (8804, '3X Short AscendEx Token (BTMX) Token'),\n (8805, 'WonderFi'),\n (8806, 'Blurt'),\n (8807, 'Bedrock'),\n (8808, 'A Hunters Dream'),\n (8809, 'Chirp'),\n (8810, 'WeWay'),\n (8811, 'QMALL TOKEN'),\n (8812, 'Squawk'),\n (8813, 'DOLZ'),\n (8815, 'Galaxy Heroes Coin'),\n (8817, 'C2X'),\n (8818, 'WTF Token'),\n (8819, 'The Killbox'),\n (8820, 'Masonic Temple Token'),\n (8821, 'Sketch coin'),\n (8822, 'Chronos Group Inc'),\n (8823, 'Grayscale Bitcoin Trust'),\n (8824, 'VanEck Vectors Gold Miners Etf'),\n (8825, 'iShares Silver Trust'),\n (8826, 'AMC Entertainment Holdings'),\n (8827, 'JustCarbon Removal'),\n (8828, 'Duckie Land Multi Metaverse'),\n (8829, 'Bot Planet'),\n (8830, 'KlayCity ORB'),\n (8831, 'Chain'),\n (8832, 'Green Satoshi Token'),\n (8833, 'Defina Finance'),\n (8834, 'Taki'),\n (8835, 'Phoenix Global [v2]'),\n (8836, 'Actifit'),\n (8838, 'Metaverse VR'),\n (8839, 'CatCoin Cash'),\n (8840, 'Miracle Universe'),\n (8841, 'MSquare Global'),\n (8842, 'H2O Dao'),\n (8843, 'Cashera'),\n (8844, 'Victory Gem'),\n (8845, 'Sangkara'),\n (8846, 'XRun'),\n (8847, 'PulseDogecoin'),\n (8848, 'Brise Paradise'),\n (8849, 'Jetset'),\n (8850, 'J9CASINO'),\n (8851, 'Soy Finance'),\n (8852, 'Movey'),\n (8853, 'BRN Metaverse'),\n (8854, 'Taroverse'),\n (8855, 'Creo Engine'),\n (8856, 'StreamCoin'),\n (8857, 'Bontecoin'),\n (8858, 'Project Galaxy'),\n (8859, 'USDD'),\n (8860, 'Krypton DAO'),\n (8861, 'Undead Blocks'),\n (8862, 'SleepFuture'),\n (8863, 'Petoverse'),\n (8864, 'Ellipsis X'),\n (8865, 'FLUID'),\n (8866, 'Glink Arts Share'),\n (8868, 'Terra World Token'),\n (8869, 'JustMoney'),\n (8870, 'REI Network'),\n (8871, 'Step App'),\n (8872, 'Sipher'),\n (8873, 'Grave'),\n (8874, 'BNS token '),\n (8875, 'Grove'),\n (8876, 'METAZONX'),\n (8877, 'OmniaVerse'),\n (8878, 'Monstock'),\n (8879, 'Asuna Hentai'),\n (8880, 'NeorderDAO '),\n (8881, 'THEORY'),\n (8883, 'Metapocket'),\n (8884, 'ELON CAT COIN'),\n (8885, 'ASSARA'),\n (8886, 'FLOV MARKET'),\n (8887, 'Kingdomswap'),\n ...]"
     },
     "execution_count": 6,
     "metadata": {},
     "output_type": "execute_result"
    }
   ],
   "source": [
    "coin_list = cryptocompare.get_coin_list(format=False)\n",
    "convert_to_list = [list(coin) for coin in list(coin_list.items())]\n",
    "# coin_list = [a_coin[1]['CoinName'] for a_coin in convert_to_list]\n",
    "coin_list_top = []\n",
    "print(len(convert_to_list))\n",
    "for coin in convert_to_list:\n",
    "    if int(coin[1]['SortOrder']) >= 0:\n",
    "        coin_list_top.append((int(coin[1]['SortOrder']), coin[1]['CoinName']))\n",
    "coin_list_top.sort()\n",
    "coin_list_top"
   ],
   "metadata": {
    "collapsed": false,
    "pycharm": {
     "name": "#%%\n"
    }
   }
  },
  {
   "cell_type": "code",
   "execution_count": 7,
   "outputs": [],
   "source": [
    "import json\n",
    "from bs4 import BeautifulSoup\n",
    "import requests"
   ],
   "metadata": {
    "collapsed": false,
    "pycharm": {
     "name": "#%%\n"
    }
   }
  },
  {
   "cell_type": "code",
   "execution_count": 8,
   "outputs": [
    {
     "data": {
      "text/plain": "['Bitcoin',\n 'Ethereum',\n 'Solana',\n 'Tether',\n 'BUSD',\n 'XRP',\n 'Binance Coin',\n 'Cardano',\n 'USD Coin',\n 'TRON']"
     },
     "execution_count": 8,
     "metadata": {},
     "output_type": "execute_result"
    }
   ],
   "source": [
    "url = 'https://min-api.cryptocompare.com/data/top/totalvolfull?limit=10&tsym=USD'\n",
    "response = requests.get(url)\n",
    "soup = BeautifulSoup(response.content, \"html.parser\")\n",
    "data = json.loads(soup.prettify())\n",
    "data = data['Data']\n",
    "\n",
    "coin_list = [coin['CoinInfo']['FullName'] for coin in data]\n",
    "coin_list"
   ],
   "metadata": {
    "collapsed": false,
    "pycharm": {
     "name": "#%%\n"
    }
   }
  },
  {
   "cell_type": "code",
   "execution_count": 9,
   "outputs": [],
   "source": [
    "# Create function to clean tweets\n",
    "# must create this clean tweet function later based on my tweets\n",
    "def clean_twt(twt):\n",
    "    \"\"\"\"\"\"\n",
    "    stopwords = [\"for\", \"on\", \"an\", \"a\", \"of\", \"and\", \"in\", \"the\", \"to\", \"from\"]\n",
    "    if type(twt) == np.float:\n",
    "        return \"\"\n",
    "    temp = twt.lower()\n",
    "    temp = re.sub(\"'\", \"\", temp)  # to avoid removing contractions in english\n",
    "    temp = re.sub(\"@[A-Za-z0-9_]+\", \"\", temp)\n",
    "    temp = re.sub(\"#[A-Za-z0-9_]+\", \"\", temp)\n",
    "    temp = re.sub(r'http\\S+', '', temp)\n",
    "    temp = re.sub('[()!?]', ' ', temp)\n",
    "    temp = re.sub('\\[.*?\\]', ' ', temp)\n",
    "    temp = re.sub(\"[^a-z0-9]\", \" \", temp)\n",
    "    temp = temp.split()\n",
    "    temp = [w for w in temp if not w in stopwords]\n",
    "    temp = \" \".join(word for word in temp)\n",
    "    return temp"
   ],
   "metadata": {
    "collapsed": false,
    "pycharm": {
     "name": "#%%\n"
    }
   }
  },
  {
   "cell_type": "code",
   "execution_count": 10,
   "outputs": [],
   "source": [
    "# function to get subjectivity\n",
    "def get_subjectivity(twt):\n",
    "    blob = TextBlob(twt)\n",
    "    return blob.sentiment.subjectivity\n",
    "\n",
    "# function to get polarity\n",
    "def get_polarity(twt):\n",
    "    blob = TextBlob(twt)\n",
    "    return blob.sentiment.polarity\n",
    "\n",
    "# create function to get sentiment of the tweet text\n",
    "def get_sentiment(score):\n",
    "    if score < 0:\n",
    "        return 'Negative'\n",
    "    elif score == 0:\n",
    "        return 'Neutral'\n",
    "    else:\n",
    "        return 'Positive'"
   ],
   "metadata": {
    "collapsed": false,
    "pycharm": {
     "name": "#%%\n"
    }
   }
  },
  {
   "cell_type": "code",
   "execution_count": 12,
   "outputs": [],
   "source": [
    "import os\n",
    "import glob\n",
    "\n",
    "files = glob.glob('crypto_live_data/*')\n",
    "for f in files:\n",
    "    os.remove(f)"
   ],
   "metadata": {
    "collapsed": false,
    "pycharm": {
     "name": "#%%\n"
    }
   }
  },
  {
   "cell_type": "code",
   "execution_count": 13,
   "outputs": [
    {
     "name": "stderr",
     "output_type": "stream",
     "text": [
      "/Library/Frameworks/Python.framework/Versions/3.7/lib/python3.7/site-packages/ipykernel_launcher.py:6: DeprecationWarning: `np.float` is a deprecated alias for the builtin `float`. To silence this warning, use `float` by itself. Doing this will not modify any behavior and is safe. If you specifically wanted the numpy scalar type, use `np.float64` here.\n",
      "Deprecated in NumPy 1.20; for more details and guidance: https://numpy.org/devdocs/release/1.20.0-notes.html#deprecations\n",
      "  \n"
     ]
    },
    {
     "name": "stdout",
     "output_type": "stream",
     "text": [
      "0 . 100\n",
      "1 . 100\n",
      "2 . 100\n",
      "3 . 100\n",
      "4 . 8\n",
      "5 . 100\n",
      "6 . 100\n",
      "7 . 100\n",
      "8 . 100\n",
      "9 . 100\n"
     ]
    }
   ],
   "source": [
    "coin_list_append = []\n",
    "no_of_tweets = 100\n",
    "# enumerate(coin_list) or coin_list_top\n",
    "for i, coin in enumerate(coin_list):\n",
    "    coin_search = coin.replace(' ', '').lower()\n",
    "    search_term = f'#{coin_search} -filter:retweets'\n",
    "    # Create a cursor object\n",
    "    tweets = tweepy.Cursor(api.search_tweets, q=search_term, lang='en', tweet_mode='extended').items(no_of_tweets)\n",
    "    all_tweets = []\n",
    "    # all_tweets_date = []\n",
    "    for tweet in tweets:\n",
    "        # print(tweet.full_text,'\\n|| ', tweet.created_at, '\\n-----------------------------------')\n",
    "        all_tweets.append(tweet.full_text)\n",
    "        # all_tweets_date.append(tweet.created_at)\n",
    "    extracted_tweets_no = len(all_tweets)\n",
    "    if extracted_tweets_no < 0:\n",
    "        continue\n",
    "    # Create dataframe to store the tweets in a column 'Tweets'\n",
    "    df_tweets = pd.DataFrame(all_tweets, columns=['Tweets'])\n",
    "    # create column with cleaned tweets\n",
    "    df_tweets['Cl_Tweets'] = df_tweets['Tweets'].apply(clean_twt)\n",
    "    # create two new columns for 'Subjectivity' and 'Polarity'\n",
    "    df_tweets['Subjectivity'] = df_tweets['Cl_Tweets'].apply(get_subjectivity)\n",
    "    df_tweets['Polarity'] = df_tweets['Cl_Tweets'].apply(get_polarity)\n",
    "    # create column to store the text sentiment\n",
    "    df_tweets['Sentiment'] = df_tweets['Polarity'].apply(get_sentiment)\n",
    "    df_tweets.to_csv(f\"crypto_live_data/{i+1}. {coin}.csv\", index=False)\n",
    "    coin_calcs = [coin, extracted_tweets_no, df_tweets['Subjectivity'].mean(), df_tweets['Polarity'].mean(),\n",
    "                  df_tweets['Sentiment'].mode()[0]]\n",
    "    coin_list_append.append(coin_calcs)\n",
    "    print(i, '.', extracted_tweets_no)"
   ],
   "metadata": {
    "collapsed": false,
    "pycharm": {
     "name": "#%%\n"
    }
   }
  },
  {
   "cell_type": "code",
   "execution_count": 14,
   "outputs": [
    {
     "data": {
      "text/plain": "    Crypto-Coin  No. of Tweets  Avg Subjectivity  Avg Polarity  \\\n0       Bitcoin            100          0.319306      0.073376   \n1      Ethereum            100          0.335525      0.182698   \n2        Solana            100          0.321333      0.129125   \n3        Tether            100          0.265880      0.074296   \n4          BUSD              8          0.442250      0.263015   \n5           XRP            100          0.380405      0.142731   \n6  Binance Coin            100          0.281255      0.148802   \n7       Cardano            100          0.619128     -0.004040   \n8      USD Coin            100          0.190172      0.162290   \n9          TRON            100          0.255867      0.055386   \n\n  Common Sentiment  \n0          Neutral  \n1          Neutral  \n2          Neutral  \n3          Neutral  \n4         Positive  \n5         Positive  \n6         Positive  \n7         Negative  \n8          Neutral  \n9          Neutral  ",
      "text/html": "<div>\n<style scoped>\n    .dataframe tbody tr th:only-of-type {\n        vertical-align: middle;\n    }\n\n    .dataframe tbody tr th {\n        vertical-align: top;\n    }\n\n    .dataframe thead th {\n        text-align: right;\n    }\n</style>\n<table border=\"1\" class=\"dataframe\">\n  <thead>\n    <tr style=\"text-align: right;\">\n      <th></th>\n      <th>Crypto-Coin</th>\n      <th>No. of Tweets</th>\n      <th>Avg Subjectivity</th>\n      <th>Avg Polarity</th>\n      <th>Common Sentiment</th>\n    </tr>\n  </thead>\n  <tbody>\n    <tr>\n      <th>0</th>\n      <td>Bitcoin</td>\n      <td>100</td>\n      <td>0.319306</td>\n      <td>0.073376</td>\n      <td>Neutral</td>\n    </tr>\n    <tr>\n      <th>1</th>\n      <td>Ethereum</td>\n      <td>100</td>\n      <td>0.335525</td>\n      <td>0.182698</td>\n      <td>Neutral</td>\n    </tr>\n    <tr>\n      <th>2</th>\n      <td>Solana</td>\n      <td>100</td>\n      <td>0.321333</td>\n      <td>0.129125</td>\n      <td>Neutral</td>\n    </tr>\n    <tr>\n      <th>3</th>\n      <td>Tether</td>\n      <td>100</td>\n      <td>0.265880</td>\n      <td>0.074296</td>\n      <td>Neutral</td>\n    </tr>\n    <tr>\n      <th>4</th>\n      <td>BUSD</td>\n      <td>8</td>\n      <td>0.442250</td>\n      <td>0.263015</td>\n      <td>Positive</td>\n    </tr>\n    <tr>\n      <th>5</th>\n      <td>XRP</td>\n      <td>100</td>\n      <td>0.380405</td>\n      <td>0.142731</td>\n      <td>Positive</td>\n    </tr>\n    <tr>\n      <th>6</th>\n      <td>Binance Coin</td>\n      <td>100</td>\n      <td>0.281255</td>\n      <td>0.148802</td>\n      <td>Positive</td>\n    </tr>\n    <tr>\n      <th>7</th>\n      <td>Cardano</td>\n      <td>100</td>\n      <td>0.619128</td>\n      <td>-0.004040</td>\n      <td>Negative</td>\n    </tr>\n    <tr>\n      <th>8</th>\n      <td>USD Coin</td>\n      <td>100</td>\n      <td>0.190172</td>\n      <td>0.162290</td>\n      <td>Neutral</td>\n    </tr>\n    <tr>\n      <th>9</th>\n      <td>TRON</td>\n      <td>100</td>\n      <td>0.255867</td>\n      <td>0.055386</td>\n      <td>Neutral</td>\n    </tr>\n  </tbody>\n</table>\n</div>"
     },
     "execution_count": 14,
     "metadata": {},
     "output_type": "execute_result"
    }
   ],
   "source": [
    "df = pd.DataFrame(coin_list_append, columns=['Crypto-Coin', 'No. of Tweets', 'Avg Subjectivity', 'Avg Polarity',\n",
    "                                             'Common Sentiment'])\n",
    "df"
   ],
   "metadata": {
    "collapsed": false,
    "pycharm": {
     "name": "#%%\n"
    }
   }
  },
  {
   "cell_type": "code",
   "execution_count": 15,
   "outputs": [
    {
     "data": {
      "text/plain": "    Crypto-Coin  No. of Tweets  Avg Subjectivity  Avg Polarity  \\\n0       Bitcoin            100          0.319306      0.073376   \n1      Ethereum            100          0.335525      0.182698   \n2        Solana            100          0.321333      0.129125   \n3        Tether            100          0.265880      0.074296   \n4          BUSD              8          0.442250      0.263015   \n5           XRP            100          0.380405      0.142731   \n6  Binance Coin            100          0.281255      0.148802   \n7       Cardano            100          0.619128     -0.004040   \n8      USD Coin            100          0.190172      0.162290   \n9          TRON            100          0.255867      0.055386   \n\n  Common Sentiment  Nor. Avg Subjectivity  Nor. Avg Polarity  \n0          Neutral                   0.30               0.29  \n1          Neutral                   0.34               0.70  \n2          Neutral                   0.31               0.50  \n3          Neutral                   0.18               0.29  \n4         Positive                   0.59               1.00  \n5         Positive                   0.44               0.55  \n6         Positive                   0.21               0.57  \n7         Negative                   1.00               0.00  \n8          Neutral                   0.00               0.62  \n9          Neutral                   0.15               0.22  ",
      "text/html": "<div>\n<style scoped>\n    .dataframe tbody tr th:only-of-type {\n        vertical-align: middle;\n    }\n\n    .dataframe tbody tr th {\n        vertical-align: top;\n    }\n\n    .dataframe thead th {\n        text-align: right;\n    }\n</style>\n<table border=\"1\" class=\"dataframe\">\n  <thead>\n    <tr style=\"text-align: right;\">\n      <th></th>\n      <th>Crypto-Coin</th>\n      <th>No. of Tweets</th>\n      <th>Avg Subjectivity</th>\n      <th>Avg Polarity</th>\n      <th>Common Sentiment</th>\n      <th>Nor. Avg Subjectivity</th>\n      <th>Nor. Avg Polarity</th>\n    </tr>\n  </thead>\n  <tbody>\n    <tr>\n      <th>0</th>\n      <td>Bitcoin</td>\n      <td>100</td>\n      <td>0.319306</td>\n      <td>0.073376</td>\n      <td>Neutral</td>\n      <td>0.30</td>\n      <td>0.29</td>\n    </tr>\n    <tr>\n      <th>1</th>\n      <td>Ethereum</td>\n      <td>100</td>\n      <td>0.335525</td>\n      <td>0.182698</td>\n      <td>Neutral</td>\n      <td>0.34</td>\n      <td>0.70</td>\n    </tr>\n    <tr>\n      <th>2</th>\n      <td>Solana</td>\n      <td>100</td>\n      <td>0.321333</td>\n      <td>0.129125</td>\n      <td>Neutral</td>\n      <td>0.31</td>\n      <td>0.50</td>\n    </tr>\n    <tr>\n      <th>3</th>\n      <td>Tether</td>\n      <td>100</td>\n      <td>0.265880</td>\n      <td>0.074296</td>\n      <td>Neutral</td>\n      <td>0.18</td>\n      <td>0.29</td>\n    </tr>\n    <tr>\n      <th>4</th>\n      <td>BUSD</td>\n      <td>8</td>\n      <td>0.442250</td>\n      <td>0.263015</td>\n      <td>Positive</td>\n      <td>0.59</td>\n      <td>1.00</td>\n    </tr>\n    <tr>\n      <th>5</th>\n      <td>XRP</td>\n      <td>100</td>\n      <td>0.380405</td>\n      <td>0.142731</td>\n      <td>Positive</td>\n      <td>0.44</td>\n      <td>0.55</td>\n    </tr>\n    <tr>\n      <th>6</th>\n      <td>Binance Coin</td>\n      <td>100</td>\n      <td>0.281255</td>\n      <td>0.148802</td>\n      <td>Positive</td>\n      <td>0.21</td>\n      <td>0.57</td>\n    </tr>\n    <tr>\n      <th>7</th>\n      <td>Cardano</td>\n      <td>100</td>\n      <td>0.619128</td>\n      <td>-0.004040</td>\n      <td>Negative</td>\n      <td>1.00</td>\n      <td>0.00</td>\n    </tr>\n    <tr>\n      <th>8</th>\n      <td>USD Coin</td>\n      <td>100</td>\n      <td>0.190172</td>\n      <td>0.162290</td>\n      <td>Neutral</td>\n      <td>0.00</td>\n      <td>0.62</td>\n    </tr>\n    <tr>\n      <th>9</th>\n      <td>TRON</td>\n      <td>100</td>\n      <td>0.255867</td>\n      <td>0.055386</td>\n      <td>Neutral</td>\n      <td>0.15</td>\n      <td>0.22</td>\n    </tr>\n  </tbody>\n</table>\n</div>"
     },
     "execution_count": 15,
     "metadata": {},
     "output_type": "execute_result"
    }
   ],
   "source": [
    "to_normalize = ['Avg Subjectivity', 'Avg Polarity']\n",
    "\n",
    "for col in to_normalize:\n",
    "    df[f'Nor. {col}'] = ((df[col] - df[col].min()) / (df[col].max() - df[col].min())).round(2)\n",
    "df\n"
   ],
   "metadata": {
    "collapsed": false,
    "pycharm": {
     "name": "#%%\n"
    }
   }
  },
  {
   "cell_type": "code",
   "execution_count": 16,
   "outputs": [
    {
     "data": {
      "text/plain": "    Crypto-Coin  No. of Tweets  Avg Subjectivity  Avg Polarity  \\\n0          BUSD              8          0.442250      0.263015   \n1      Ethereum            100          0.335525      0.182698   \n2      USD Coin            100          0.190172      0.162290   \n3  Binance Coin            100          0.281255      0.148802   \n4           XRP            100          0.380405      0.142731   \n5        Solana            100          0.321333      0.129125   \n6       Bitcoin            100          0.319306      0.073376   \n7        Tether            100          0.265880      0.074296   \n8          TRON            100          0.255867      0.055386   \n9       Cardano            100          0.619128     -0.004040   \n\n  Common Sentiment  Nor. Avg Subjectivity  Nor. Avg Polarity  \n0         Positive                   0.59               1.00  \n1          Neutral                   0.34               0.70  \n2          Neutral                   0.00               0.62  \n3         Positive                   0.21               0.57  \n4         Positive                   0.44               0.55  \n5          Neutral                   0.31               0.50  \n6          Neutral                   0.30               0.29  \n7          Neutral                   0.18               0.29  \n8          Neutral                   0.15               0.22  \n9         Negative                   1.00               0.00  ",
      "text/html": "<div>\n<style scoped>\n    .dataframe tbody tr th:only-of-type {\n        vertical-align: middle;\n    }\n\n    .dataframe tbody tr th {\n        vertical-align: top;\n    }\n\n    .dataframe thead th {\n        text-align: right;\n    }\n</style>\n<table border=\"1\" class=\"dataframe\">\n  <thead>\n    <tr style=\"text-align: right;\">\n      <th></th>\n      <th>Crypto-Coin</th>\n      <th>No. of Tweets</th>\n      <th>Avg Subjectivity</th>\n      <th>Avg Polarity</th>\n      <th>Common Sentiment</th>\n      <th>Nor. Avg Subjectivity</th>\n      <th>Nor. Avg Polarity</th>\n    </tr>\n  </thead>\n  <tbody>\n    <tr>\n      <th>0</th>\n      <td>BUSD</td>\n      <td>8</td>\n      <td>0.442250</td>\n      <td>0.263015</td>\n      <td>Positive</td>\n      <td>0.59</td>\n      <td>1.00</td>\n    </tr>\n    <tr>\n      <th>1</th>\n      <td>Ethereum</td>\n      <td>100</td>\n      <td>0.335525</td>\n      <td>0.182698</td>\n      <td>Neutral</td>\n      <td>0.34</td>\n      <td>0.70</td>\n    </tr>\n    <tr>\n      <th>2</th>\n      <td>USD Coin</td>\n      <td>100</td>\n      <td>0.190172</td>\n      <td>0.162290</td>\n      <td>Neutral</td>\n      <td>0.00</td>\n      <td>0.62</td>\n    </tr>\n    <tr>\n      <th>3</th>\n      <td>Binance Coin</td>\n      <td>100</td>\n      <td>0.281255</td>\n      <td>0.148802</td>\n      <td>Positive</td>\n      <td>0.21</td>\n      <td>0.57</td>\n    </tr>\n    <tr>\n      <th>4</th>\n      <td>XRP</td>\n      <td>100</td>\n      <td>0.380405</td>\n      <td>0.142731</td>\n      <td>Positive</td>\n      <td>0.44</td>\n      <td>0.55</td>\n    </tr>\n    <tr>\n      <th>5</th>\n      <td>Solana</td>\n      <td>100</td>\n      <td>0.321333</td>\n      <td>0.129125</td>\n      <td>Neutral</td>\n      <td>0.31</td>\n      <td>0.50</td>\n    </tr>\n    <tr>\n      <th>6</th>\n      <td>Bitcoin</td>\n      <td>100</td>\n      <td>0.319306</td>\n      <td>0.073376</td>\n      <td>Neutral</td>\n      <td>0.30</td>\n      <td>0.29</td>\n    </tr>\n    <tr>\n      <th>7</th>\n      <td>Tether</td>\n      <td>100</td>\n      <td>0.265880</td>\n      <td>0.074296</td>\n      <td>Neutral</td>\n      <td>0.18</td>\n      <td>0.29</td>\n    </tr>\n    <tr>\n      <th>8</th>\n      <td>TRON</td>\n      <td>100</td>\n      <td>0.255867</td>\n      <td>0.055386</td>\n      <td>Neutral</td>\n      <td>0.15</td>\n      <td>0.22</td>\n    </tr>\n    <tr>\n      <th>9</th>\n      <td>Cardano</td>\n      <td>100</td>\n      <td>0.619128</td>\n      <td>-0.004040</td>\n      <td>Negative</td>\n      <td>1.00</td>\n      <td>0.00</td>\n    </tr>\n  </tbody>\n</table>\n</div>"
     },
     "execution_count": 16,
     "metadata": {},
     "output_type": "execute_result"
    }
   ],
   "source": [
    "df_sort = df.sort_values('Nor. Avg Polarity', ascending=False, ignore_index=True)\n",
    "df_sort"
   ],
   "metadata": {
    "collapsed": false,
    "pycharm": {
     "name": "#%%\n"
    }
   }
  },
  {
   "cell_type": "code",
   "execution_count": 17,
   "outputs": [
    {
     "data": {
      "text/plain": "(10, 7)"
     },
     "execution_count": 17,
     "metadata": {},
     "output_type": "execute_result"
    }
   ],
   "source": [
    "df_sort.shape"
   ],
   "metadata": {
    "collapsed": false,
    "pycharm": {
     "name": "#%%\n"
    }
   }
  },
  {
   "cell_type": "code",
   "execution_count": 18,
   "outputs": [
    {
     "data": {
      "text/plain": "'BUSD'"
     },
     "execution_count": 18,
     "metadata": {},
     "output_type": "execute_result"
    }
   ],
   "source": [
    "df_sort['Crypto-Coin'][0]"
   ],
   "metadata": {
    "collapsed": false,
    "pycharm": {
     "name": "#%%\n"
    }
   }
  },
  {
   "cell_type": "code",
   "execution_count": 19,
   "outputs": [
    {
     "name": "stdout",
     "output_type": "stream",
     "text": [
      "Cryptocurrencies arranged in terms of Positivity: \n",
      "\n",
      "1. BUSD\n",
      "\tMost Common Sentiment:    Positive\n",
      "\tAverage Positivity:       26.3%\n",
      "\tAverage Subjectivity:     44.2%\n",
      "\n",
      "2. Ethereum\n",
      "\tMost Common Sentiment:    Neutral\n",
      "\tAverage Positivity:       18.3%\n",
      "\tAverage Subjectivity:     33.6%\n",
      "\n",
      "3. USD Coin\n",
      "\tMost Common Sentiment:    Neutral\n",
      "\tAverage Positivity:       16.2%\n",
      "\tAverage Subjectivity:     19.0%\n",
      "\n",
      "4. Binance Coin\n",
      "\tMost Common Sentiment:    Positive\n",
      "\tAverage Positivity:       14.9%\n",
      "\tAverage Subjectivity:     28.1%\n",
      "\n",
      "5. XRP\n",
      "\tMost Common Sentiment:    Positive\n",
      "\tAverage Positivity:       14.3%\n",
      "\tAverage Subjectivity:     38.0%\n",
      "\n",
      "6. Solana\n",
      "\tMost Common Sentiment:    Neutral\n",
      "\tAverage Positivity:       12.9%\n",
      "\tAverage Subjectivity:     32.1%\n",
      "\n",
      "7. Bitcoin\n",
      "\tMost Common Sentiment:    Neutral\n",
      "\tAverage Positivity:       7.3%\n",
      "\tAverage Subjectivity:     31.9%\n",
      "\n",
      "8. Tether\n",
      "\tMost Common Sentiment:    Neutral\n",
      "\tAverage Positivity:       7.4%\n",
      "\tAverage Subjectivity:     26.6%\n",
      "\n",
      "9. TRON\n",
      "\tMost Common Sentiment:    Neutral\n",
      "\tAverage Positivity:       5.5%\n",
      "\tAverage Subjectivity:     25.6%\n",
      "\n",
      "10. Cardano\n",
      "\tMost Common Sentiment:    Negative\n",
      "\tAverage Positivity:       -0.4%\n",
      "\tAverage Subjectivity:     61.9%\n",
      "\n"
     ]
    }
   ],
   "source": [
    "print(\"Cryptocurrencies arranged in terms of Positivity: \\n\")\n",
    "for i in range(df_sort.shape[0]):\n",
    "    print(f\"{i+1}. {df_sort['Crypto-Coin'][i]}\")\n",
    "    print(f\"\\tMost Common Sentiment:    {df_sort['Common Sentiment'][i]}\")\n",
    "    print(f\"\\tAverage Positivity:       {round(df_sort['Avg Polarity'][i]*100,1)}%\")\n",
    "    print(f\"\\tAverage Subjectivity:     {round(df_sort['Avg Subjectivity'][i]*100,1)}%\\n\")"
   ],
   "metadata": {
    "collapsed": false,
    "pycharm": {
     "name": "#%%\n"
    }
   }
  },
  {
   "cell_type": "code",
   "execution_count": 19,
   "outputs": [],
   "source": [],
   "metadata": {
    "collapsed": false,
    "pycharm": {
     "name": "#%%\n"
    }
   }
  }
 ],
 "metadata": {
  "kernelspec": {
   "display_name": "Python 3",
   "language": "python",
   "name": "python3"
  },
  "language_info": {
   "codemirror_mode": {
    "name": "ipython",
    "version": 2
   },
   "file_extension": ".py",
   "mimetype": "text/x-python",
   "name": "python",
   "nbconvert_exporter": "python",
   "pygments_lexer": "ipython2",
   "version": "2.7.6"
  }
 },
 "nbformat": 4,
 "nbformat_minor": 0
}