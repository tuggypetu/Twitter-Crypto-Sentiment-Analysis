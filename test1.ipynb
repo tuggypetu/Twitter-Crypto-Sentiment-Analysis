{
 "cells": [
  {
   "cell_type": "code",
   "execution_count": 3,
   "outputs": [],
   "source": [
    "import cryptocompare"
   ],
   "metadata": {
    "collapsed": false,
    "pycharm": {
     "name": "#%%\n"
    }
   }
  },
  {
   "cell_type": "code",
   "execution_count": 4,
   "outputs": [
    {
     "data": {
      "text/plain": "'&api_key=c22260e3802579ea1080ec1830c1b4ec07f2c449b47b21ab632e44664c102746'"
     },
     "execution_count": 4,
     "metadata": {},
     "output_type": "execute_result"
    }
   ],
   "source": [
    "cryptocompare.cryptocompare._set_api_key_parameter('c22260e3802579ea1080ec1830c1b4ec07f2c449b47b21ab632e44664c102746')"
   ],
   "metadata": {
    "collapsed": false,
    "pycharm": {
     "name": "#%%\n"
    }
   }
  },
  {
   "cell_type": "code",
   "execution_count": 58,
   "outputs": [
    {
     "data": {
      "text/plain": "[(1, 'Bitcoin'),\n (2, 'Ethereum'),\n (3, 'Litecoin'),\n (4, 'Dash'),\n (5, 'Monero'),\n (6, 'Nxt'),\n (7, 'Ethereum Classic'),\n (8, 'Dogecoin'),\n (9, 'ZCash'),\n (10, 'Bitshares'),\n (11, 'DigiByte'),\n (12, 'XRP'),\n (13, 'BitcoinDark'),\n (14, 'PeerCoin'),\n (15, 'CraigsCoin'),\n (16, 'Bitstake'),\n (17, 'PayCoin'),\n (18, 'ProsperCoin'),\n (19, 'YbCoin'),\n (20, 'DarkKush'),\n (21, 'GiveCoin'),\n (22, 'KoboCoin'),\n (23, 'DarkToken'),\n (24, 'CETUS Coin'),\n (25, 'Supcoin')]"
     },
     "execution_count": 58,
     "metadata": {},
     "output_type": "execute_result"
    }
   ],
   "source": [
    "coin_list = cryptocompare.get_coin_list(format=False)\n",
    "convert_to_list = [list(coin) for coin in list(coin_list.items())]\n",
    "# coin_list = [a_coin[1]['CoinName'] for a_coin in convert_to_list]\n",
    "coin_list_top = []\n",
    "for coin in convert_to_list:\n",
    "    if int(coin[1]['SortOrder']) <= 25:\n",
    "        coin_list_top.append((int(coin[1]['SortOrder']), coin[1]['CoinName']))\n",
    "coin_list_top.sort()\n",
    "coin_list_top"
   ],
   "metadata": {
    "collapsed": false,
    "pycharm": {
     "name": "#%%\n"
    }
   }
  },
  {
   "cell_type": "code",
   "execution_count": 44,
   "outputs": [
    {
     "name": "stdout",
     "output_type": "stream",
     "text": [
      "True\n"
     ]
    }
   ],
   "source": [
    "if 'Bitcoin' in coin_list:\n",
    "    print('True')\n",
    "else:\n",
    "    print('False')"
   ],
   "metadata": {
    "collapsed": false,
    "pycharm": {
     "name": "#%%\n"
    }
   }
  },
  {
   "cell_type": "code",
   "execution_count": 46,
   "outputs": [
    {
     "data": {
      "text/plain": "{'Id': '7605',\n 'Url': '/coins/eth/overview',\n 'ImageUrl': '/media/37746238/eth.png',\n 'ContentCreatedOn': 1438259812,\n 'Name': 'ETH',\n 'Symbol': 'ETH',\n 'CoinName': 'Ethereum',\n 'FullName': 'Ethereum (ETH)',\n 'Description': 'Ethereum is a decentralized platform that runs smart contracts (applications that run exactly as programmed without any possibility of downtime, censorship, fraud or third party interference). In the Ethereum protocol and blockchain, there is a price for each operation. In order to have anything transferred or executed by the network, you have to consume or burn Gas. Ethereum’s native cryptocurrency is Ether (ETH) and it is used to pay for computation time and transaction fees.The introductory whitepaper was originally published in 2013 by Vitalik Buterin, the founder of Ethereum, the project was crowdfunded during August 2014 by fans all around the world and launched in 2015. Ethereum is developed and maintained by ETHDEV with contributions from minds across the globe. There is an Ecosystem Support Program which is a branch of the Ethereum Foundation focused on supporting projects and entities within the greater Ethereum community to promote the success and growth of the ecosystem. Multiple startups work with the Ethereum blockchain covering areas in: DeFi, NFTs, Ethereum Name Service, Wallets, Scaling, etc.The launch of Ethereum is a process divided into 4 main phases: Frontier, Homestead, Metropolis and Serenity.Ethereum 2.0, also known as Serenity, is the final phase of Ethereum, it aims to solve the decentralized scaling challenge. A naive way to solve Ethereum&#39;s problems would be to make it more centralized. But decentralization is too important, as it gives Ethereum censorship resistance, openness, data privacy and near-unbreakable security.The Eth2 upgrades will make Ethereum scalable, secure, and decentralized. Sharding will make Ethereum more scalable by increasing transactions per second while decreasing the power needed to run a node and validate the chain. The beacon chain will make Ethereum secure by coordinating validators across shards. And staking will lower the barrier to participation, creating a larger – more decentralized – network.The beacon chain will also introduce proof-of-stake to Ethereum. Ethereum is moving to the proof-of-stake (PoS) consensus mechanism from proof-of-work (PoW). This was always the plan as it&#39;s a key part of the community&#39;s strategy to scale Ethereum via the Eth2 upgrades. However, getting PoS right is a big technical challenge and not as straightforward as using PoW to reach consensus across the networkKeep up with Ethereum upgradesFor ETH holders and Dapp users, this has no impact whatsoever, however, for users wishing to get involved, there are ways to participate in Ethereum and future Eth2-related efforts.\\xa0Get involved in Eth 2.0Blockchain data provided by: Etherchain (Main Source), Blockchair (Backup), and Etherscan (Total Supply only).',\n 'AssetTokenStatus': 'Finished',\n 'Algorithm': 'Ethash',\n 'ProofType': 'PoW',\n 'SortOrder': '2',\n 'Sponsored': False,\n 'Taxonomy': {'Access': 'Permissionless',\n  'FCA': 'Exchange,Utility',\n  'FINMA': 'Payment,Utility',\n  'Industry': 'Blockchain-Specific Application',\n  'CollateralizedAsset': 'No',\n  'CollateralizedAssetType': '',\n  'CollateralType': '',\n  'CollateralInfo': ''},\n 'Rating': {'Weiss': {'Rating': 'B+',\n   'TechnologyAdoptionRating': 'A',\n   'MarketPerformanceRating': 'D+'}}}"
     },
     "execution_count": 46,
     "metadata": {},
     "output_type": "execute_result"
    }
   ],
   "source": [
    "coin_list = cryptocompare.get_coin_list(format=False)\n",
    "coin_list['ETH']"
   ],
   "metadata": {
    "collapsed": false,
    "pycharm": {
     "name": "#%%\n"
    }
   }
  },
  {
   "cell_type": "code",
   "execution_count": 27,
   "outputs": [
    {
     "data": {
      "text/plain": "('XBS',\n {'Id': '5023',\n  'Url': '/coins/xbs/overview',\n  'ImageUrl': '/media/351060/xbs_1.png',\n  'ContentCreatedOn': 1428671859,\n  'Name': 'XBS',\n  'Symbol': 'XBS',\n  'CoinName': 'Bitstake',\n  'FullName': 'Bitstake (XBS)',\n  'Description': 'To create the infrastructure necessary to implement an inclusive digital economy that encourage affordable digital transactions and services.\\xa0Bitstake’s vision is to make digital currencies more accessible to people unreached by traditional banking as well as drive down the costs of money transfers. Bitstake is a hybrid proof of work and proof of stake with a 5% annualised interest rate.',\n  'AssetTokenStatus': 'N/A',\n  'Algorithm': 'X11',\n  'ProofType': 'PoW/PoS',\n  'SortOrder': '16',\n  'Sponsored': False,\n  'Taxonomy': {'Access': '',\n   'FCA': '',\n   'FINMA': '',\n   'Industry': '',\n   'CollateralizedAsset': '',\n   'CollateralizedAssetType': '',\n   'CollateralType': '',\n   'CollateralInfo': ''},\n  'Rating': {'Weiss': {'Rating': '',\n    'TechnologyAdoptionRating': '',\n    'MarketPerformanceRating': ''}}})"
     },
     "execution_count": 27,
     "metadata": {},
     "output_type": "execute_result"
    }
   ],
   "source": [
    "coin_list = list(coin_list.items())\n",
    "a = coin_list[0]\n",
    "a"
   ],
   "metadata": {
    "collapsed": false,
    "pycharm": {
     "name": "#%%\n"
    }
   }
  },
  {
   "cell_type": "code",
   "execution_count": 28,
   "outputs": [],
   "source": [
    "a = list(a)"
   ],
   "metadata": {
    "collapsed": false,
    "pycharm": {
     "name": "#%%\n"
    }
   }
  },
  {
   "cell_type": "code",
   "execution_count": 29,
   "outputs": [
    {
     "data": {
      "text/plain": "['XBS',\n {'Id': '5023',\n  'Url': '/coins/xbs/overview',\n  'ImageUrl': '/media/351060/xbs_1.png',\n  'ContentCreatedOn': 1428671859,\n  'Name': 'XBS',\n  'Symbol': 'XBS',\n  'CoinName': 'Bitstake',\n  'FullName': 'Bitstake (XBS)',\n  'Description': 'To create the infrastructure necessary to implement an inclusive digital economy that encourage affordable digital transactions and services.\\xa0Bitstake’s vision is to make digital currencies more accessible to people unreached by traditional banking as well as drive down the costs of money transfers. Bitstake is a hybrid proof of work and proof of stake with a 5% annualised interest rate.',\n  'AssetTokenStatus': 'N/A',\n  'Algorithm': 'X11',\n  'ProofType': 'PoW/PoS',\n  'SortOrder': '16',\n  'Sponsored': False,\n  'Taxonomy': {'Access': '',\n   'FCA': '',\n   'FINMA': '',\n   'Industry': '',\n   'CollateralizedAsset': '',\n   'CollateralizedAssetType': '',\n   'CollateralType': '',\n   'CollateralInfo': ''},\n  'Rating': {'Weiss': {'Rating': '',\n    'TechnologyAdoptionRating': '',\n    'MarketPerformanceRating': ''}}}]"
     },
     "execution_count": 29,
     "metadata": {},
     "output_type": "execute_result"
    }
   ],
   "source": [
    "a"
   ],
   "metadata": {
    "collapsed": false,
    "pycharm": {
     "name": "#%%\n"
    }
   }
  },
  {
   "cell_type": "code",
   "execution_count": 34,
   "outputs": [
    {
     "data": {
      "text/plain": "'Bitstake'"
     },
     "execution_count": 34,
     "metadata": {},
     "output_type": "execute_result"
    }
   ],
   "source": [
    "a[1]['CoinName']"
   ],
   "metadata": {
    "collapsed": false,
    "pycharm": {
     "name": "#%%\n"
    }
   }
  },
  {
   "cell_type": "code",
   "execution_count": null,
   "outputs": [],
   "source": [
    "coin_name_list = coin_list"
   ],
   "metadata": {
    "collapsed": false,
    "pycharm": {
     "name": "#%%\n"
    }
   }
  }
 ],
 "metadata": {
  "kernelspec": {
   "display_name": "Python 3",
   "language": "python",
   "name": "python3"
  },
  "language_info": {
   "codemirror_mode": {
    "name": "ipython",
    "version": 2
   },
   "file_extension": ".py",
   "mimetype": "text/x-python",
   "name": "python",
   "nbconvert_exporter": "python",
   "pygments_lexer": "ipython2",
   "version": "2.7.6"
  }
 },
 "nbformat": 4,
 "nbformat_minor": 0
}