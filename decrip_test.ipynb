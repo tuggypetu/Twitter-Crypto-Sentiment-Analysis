{
 "cells": [
  {
   "cell_type": "code",
   "execution_count": 17,
   "outputs": [],
   "source": [],
   "metadata": {
    "collapsed": false,
    "pycharm": {
     "name": "#%%\n"
    }
   }
  },
  {
   "cell_type": "code",
   "execution_count": 18,
   "outputs": [],
   "source": [
    "# libraries for importing and editing Twitter tweets\n",
    "import tweepy\n",
    "import pandas as pd"
   ],
   "metadata": {
    "collapsed": false,
    "pycharm": {
     "name": "#%%\n"
    }
   }
  },
  {
   "cell_type": "code",
   "execution_count": 19,
   "outputs": [],
   "source": [
    "api_log = pd.read_csv('twitter_api_login.csv')"
   ],
   "metadata": {
    "collapsed": false,
    "pycharm": {
     "name": "#%%\n"
    }
   }
  },
  {
   "cell_type": "code",
   "execution_count": 20,
   "outputs": [],
   "source": [
    "# Twitter API credentials\n",
    "api_key = api_log.iloc[0, 0]\n",
    "api_key_secret = api_log.iloc[0, 1]\n",
    "bearer_token = api_log.iloc[0, 2]\n",
    "access_token = api_log.iloc[0, 3]\n",
    "access_token_secret = api_log.iloc[0, 4]"
   ],
   "metadata": {
    "collapsed": false,
    "pycharm": {
     "name": "#%%\n"
    }
   }
  },
  {
   "cell_type": "code",
   "execution_count": 21,
   "outputs": [],
   "source": [
    "# Create authentication object\n",
    "authenticate = tweepy.OAuthHandler(api_key, api_key_secret)\n",
    "\n",
    "# Set access token and access token secret\n",
    "authenticate.set_access_token(access_token, access_token_secret)\n",
    "\n",
    "# create the API object while passing in the auth information\n",
    "api = tweepy.API(authenticate, wait_on_rate_limit=True)"
   ],
   "metadata": {
    "collapsed": false,
    "pycharm": {
     "name": "#%%\n"
    }
   }
  },
  {
   "cell_type": "code",
   "execution_count": 22,
   "outputs": [],
   "source": [
    "keywords = ['cross chain','defi','eth','ethereum', 'solana', 'sol', 'avax', 'gamefi', 'gaming', 'blockchain', 'nft']"
   ],
   "metadata": {
    "collapsed": false,
    "pycharm": {
     "name": "#%%\n"
    }
   }
  },
  {
   "cell_type": "code",
   "execution_count": 23,
   "outputs": [
    {
     "name": "stdout",
     "output_type": "stream",
     "text": [
      "--------- KaraStar | Gamefi 2.0 | karastargamefi | A Play & Earn Metaverse game on GameFi 2.0-based ecosystem\n",
      "\n",
      "Bloomberg, Yahoo Finance, Market Watch and Nasdaq reporting\n",
      "Telegram : https://t.co/DljUKaVhJI\n",
      "--------- CheersLand🍻#GameFi | Hiring! | cheers_land | A scalable GameFi Metaverse Aggregator where anyone can monetize their gaming experiences and social networks | $CHEERS\n",
      "Official TG: https://t.co/704bsUz5kd\n",
      "--------- 🇺🇦 GameFi Drops - StandWithUkraine🇺🇦 | GameFiDrops | The Gamefi community helps players, games, and guilds to develop the Gamefiverse | Play-to-Earn projects, Blockchain #NFT Games #INO #IGO events are all here🚀\n",
      "--------- Gamefi Army | gamefiarmy | A gaming community driven by effective and profitable \"Play to Earn\" and investment strategies in the GameFi Industry\n",
      "--------- GameFi_Research_Lab | GameFi_Re_Lab | GameFi Research Lab ( #Blockchain、#Gamefi、#IDO、#AMA、#Airdrop、#Play2Earn、#NFT、Top #Crypto gamefi project news 、community  and analysis、Project Promotion.)\n",
      "--------- GamefiProtocol | GamefiProtocol | GameFi Protocol is the first GameFi aggregation protocol that advocates F2P2E (Free to Play to Earn)\n",
      "--------- GameFi Study Club | Gamefi_club | A club focus on GameFi's learning and sharing. GameFi market project news, research measurement, news, events and so on!\n",
      "Telegram:https://t.co/uMfusRzdHJ…\n",
      "--------- GameFi Crossing | $XYA | GameFiCrossing | The official Twitter account of GameFi Crossing ($XYA), an HRC-20 token on the Harmony blockchain centered around gamified NFTs and decentralized applications.\n",
      "--------- MetaCombine: Connecting GameFi | MetaCombine | The LinkedIn of GameFi: MetaCombine is an all-in-one hub that will seamlessly connect the GameFi ecosystem.\n",
      "\n",
      "Developed by Nova Guild Games\n",
      "--------- Maze_VR_GameFi | MazeMetaverse | The best VR GameFi in 2022.\n",
      "\n",
      "https://t.co/G0pFWmiCQh\n",
      "https://t.co/d0NYbyOu30\n",
      "youtube@Maze_VR_GameFi\n",
      "\n",
      "#VRgame  #GameFi  #Metaverse  #NFT\n",
      "--------- PAPA DAO🔺| Backing #Metaverse and #GAMEFI | PapaDAOofficial | Big believer in Metaverse & GameFi Projects.\n",
      "--------- Gamefi Chill | Gamefi_Chill | GameFi Chill where you can earn crypto while gaming. \n",
      "#NFTGaming #P2E #M2E. TG: https://t.co/QxE8DkL1BD\n",
      "For business proposal, contact: https://t.co/Dbuz0P0nzH\n",
      "--------- GameFi Asia | gamefiasia | A 4-day hybrid GameFi experience for builders, enthusiasts, guilds & KOLs 👾  Proudly brought to you by @SaladVentures and @metajamasia 🌟\n",
      "🗓18 - 21 July 2022\n",
      "--------- GameFi Daily | daily_gamefi | 🎮 Discover, research & review quality GameFi projects.\n",
      "🤖️ DM for business/collab inquiry.\n",
      "🌵 #GameFi #Metaverse #P2E\n",
      "--------- Weaponized Countries ⚔️ GameFi | WCNFT | Weaponized Countries is a GameFi NFT collection on #Fantom of randomized countries featuring 500+ unique weapons and traits! Discord 📲 https://t.co/vUMgJAHj6P\n",
      "--------- GameFi Guild | GamefiGuild | The GMF Guild is a DAO that empower guild participants & connect more high-quality gamefi projects .\n",
      "Play for free , earn through game.\n",
      "https://t.co/2rcxDmdobA\n",
      "--------- GamefiAcademy.eth | SLParmy | VISarmy | GameFiAcademy | Gamefi and Defi education | Bullish on Play to Earn\n",
      "--------- Pumpkitten (🎃🐱) GameFi NFTs of Fantom | Pumpkittens | The First Revenue Sharing NFTs! First GameFi on FTM with NFT farming. Join discord 👉 https://t.co/cW4jOcVlQV. Built by @BloqBall\n",
      "--------- DIF GameFi | difgamefi | DIF GameFI is a community discovering and investing in blockchain game\n",
      "\n",
      "Enjoy the game while earning money with us\n",
      "\n",
      "#difgamefi #ntf #gamefi\n",
      "Tele: https://t.co/MoBLH5RYzO\n",
      "--------- PocketPals | PTE GameFi on Fantom | PocketPalsNFT | 👾 Collect, Battle, and Earn! 👾 NFT GameFi Coming To $FTM ¤ Join Our Discord! https://t.co/s2gM8wIBJd ¤\n",
      "--------- FxBox - Crypto & Forex GameFi, NFTs | FxBox_io | Swap, Stake, Mine, Farming and Trading - FxBox is revolutionising the GameFi space by gamifying Financial Trading\n",
      "--------- BOSSGamefi | Bossgamecn | Boss game is a diversified aggregation platform based on bep-20 intelligent chainEcological development gamefi NFT Swap Ecological construction in progress\n",
      "--------- Gamefi Street | Gamefi_Street | GameFi Street where you can earn crypto while gaming. \n",
      "#NFT #NFTGaming #P2E #Metaverse.\n",
      "🤝For business proposal, contact: https://t.co/2ciUfVmIAH\n",
      "--------- MetaHero | MetaheroGamefi | #MetaHero is a classic and unique #TowerDefense gamefi based on #BSC\n",
      "Web: https://t.co/p9gk4Sy6KK\n",
      "Tg: https://t.co/FUIcAC33JU\n",
      "Discord: https://t.co/QCuKM60568\n",
      "--------- GameFi.Fund | GameFi_Fund | We are a cutting edge blockchain capital, focusing on GameFi and NFT, if you are startup in Metaverse, please send your business plan to: bp@gamefi.fund\n",
      "--------- GamefiDAO.eth | gamefidao | Founder of Gamefi DAO\n",
      "--------- BNBRagnarok | GameFi Three-type Earning | bnbragnarok | First NFT GameFi Three-type Earning | Hold, Play and Earn up to 398,295% with Fixed. Get a 5% reward in $ZENY from a referral. https://t.co/S8VvGcjVxY\n",
      "--------- Stray Inu GameFi | STRAYINU_GameFi | StrayInu's GameFi Account\n",
      "--------- ONE Quantum Universe | NFT’s & GameFi | qntmverse | 🔜Spiritual Based Crypto-Community🌐 🔮Integrating the QNTM Universe with ONE 💟 Animated NFTs on ERC-721 & QNTM GameFi 👽\n",
      "--------- ARCADE Crosschain GameFi Exchange | arcadegamefi | ARCADE is a dedicated cross-chain launchpad and infrastructure for incredible GameFi projects.\n",
      "--------- Emerging GameFi on Defrontier 🐿️ | DefrontierNet | Emerging GameFi 👉 Visit https://t.co/6qoHK36mSa 🐿️ \n",
      "\n",
      "Built by @brimlesslab | Telegram https://t.co/Hl9hb5lqbO | Discord https://t.co/XdxSOhFjQk\n",
      "--------- rimau.eth | 0xlokal.lens | Exploring GameFi | 0xLokal | GameFi Enthusiast. Part time degen. Looking for Analyst role in GameFi. \n",
      "\n",
      " ✨SiswAxie Micro-Guild Leader ✨ 26 🧑‍💻 ✨\n"
     ]
    }
   ],
   "source": [
    "tweets = tweepy.Cursor(api.search_users, q='gamefi').items(100)\n",
    "for t in tweets:\n",
    "    # print(t.description.lower().split())\n",
    "    if 'gamefi' in t.description.lower().split():\n",
    "        print('---------', t.name,'|', t.screen_name, '|', t.description)"
   ],
   "metadata": {
    "collapsed": false,
    "pycharm": {
     "name": "#%%\n"
    }
   }
  },
  {
   "cell_type": "code",
   "execution_count": 24,
   "outputs": [
    {
     "data": {
      "text/plain": "['my', 'name', 'is', 'a']"
     },
     "execution_count": 24,
     "metadata": {},
     "output_type": "execute_result"
    }
   ],
   "source": [
    "a = \"My name is a\"\n",
    "a.lower().split()"
   ],
   "metadata": {
    "collapsed": false,
    "pycharm": {
     "name": "#%%\n"
    }
   }
  },
  {
   "cell_type": "code",
   "execution_count": 25,
   "outputs": [
    {
     "data": {
      "text/plain": "Empty DataFrame\nColumns: [Name, Tag Name, Description]\nIndex: []",
      "text/html": "<div>\n<style scoped>\n    .dataframe tbody tr th:only-of-type {\n        vertical-align: middle;\n    }\n\n    .dataframe tbody tr th {\n        vertical-align: top;\n    }\n\n    .dataframe thead th {\n        text-align: right;\n    }\n</style>\n<table border=\"1\" class=\"dataframe\">\n  <thead>\n    <tr style=\"text-align: right;\">\n      <th></th>\n      <th>Name</th>\n      <th>Tag Name</th>\n      <th>Description</th>\n    </tr>\n  </thead>\n  <tbody>\n  </tbody>\n</table>\n</div>"
     },
     "execution_count": 25,
     "metadata": {},
     "output_type": "execute_result"
    }
   ],
   "source": [
    "df = pd.DataFrame(columns=['Name', 'Tag Name', 'Description'])\n",
    "df"
   ],
   "metadata": {
    "collapsed": false,
    "pycharm": {
     "name": "#%%\n"
    }
   }
  },
  {
   "cell_type": "code",
   "execution_count": 26,
   "outputs": [],
   "source": [
    "for w in keywords:\n",
    "    tweets = tweepy.Cursor(api.search_users, q=w).items(100)\n",
    "    for t in tweets:\n",
    "        if w in t.description.lower().split():\n",
    "            df.loc[len(df)] = [t.name, t.screen_name, t.description]"
   ],
   "metadata": {
    "collapsed": false,
    "pycharm": {
     "name": "#%%\n"
    }
   }
  },
  {
   "cell_type": "code",
   "execution_count": 27,
   "outputs": [
    {
     "data": {
      "text/plain": "                                             Name         Tag Name  \\\n0                                    DeFi Pulse 🍇        defipulse   \n1                                   DefiLlama.com        DefiLlama   \n2                          DeFi Dad ⟠ defidad.eth         DeFi_Dad   \n3                                The DeFi Edge 🗡️      thedefiedge   \n4                                DeFi Airdrops 🦇🔊    defi_airdrops   \n..                                            ...              ...   \n395                          SuperchiefGalleryNFT    SuperchiefNFT   \n396                                      NFTBoxes         nftboxes   \n397                                      GOKU_NFT         goku_nft   \n398                        NFT Protocol (NFT.org)     NFT_Protocol   \n399  RickyODonnell79 | NFTLions 🦁 NFTLionCubs 🦁 🍼  RickyODonnell79   \n\n                                           Description  \n0    The leaderboard of #DeFi. Our mission: Establi...  \n1    Open and transparent DeFi TVL and analytics.\\n...  \n2    ⟠ DeFi super-user / educator 💫 Partner at @4RC...  \n3    Breaking down how you can become a more profit...  \n4    Never miss any DeFi airdrop again! by @cryptot...  \n..                                                 ...  \n395  World's 1st IRL NFT Gallery - located in NYC &...  \n396  NFT Monthly Subcription service founded by @Pr...  \n397  artist. photographer. discord building + secur...  \n398  The decentralized NFT trading protocol. $NFT #...  \n399  Cancer Survivor, Loving Dad, NFT Collector & C...  \n\n[400 rows x 3 columns]",
      "text/html": "<div>\n<style scoped>\n    .dataframe tbody tr th:only-of-type {\n        vertical-align: middle;\n    }\n\n    .dataframe tbody tr th {\n        vertical-align: top;\n    }\n\n    .dataframe thead th {\n        text-align: right;\n    }\n</style>\n<table border=\"1\" class=\"dataframe\">\n  <thead>\n    <tr style=\"text-align: right;\">\n      <th></th>\n      <th>Name</th>\n      <th>Tag Name</th>\n      <th>Description</th>\n    </tr>\n  </thead>\n  <tbody>\n    <tr>\n      <th>0</th>\n      <td>DeFi Pulse 🍇</td>\n      <td>defipulse</td>\n      <td>The leaderboard of #DeFi. Our mission: Establi...</td>\n    </tr>\n    <tr>\n      <th>1</th>\n      <td>DefiLlama.com</td>\n      <td>DefiLlama</td>\n      <td>Open and transparent DeFi TVL and analytics.\\n...</td>\n    </tr>\n    <tr>\n      <th>2</th>\n      <td>DeFi Dad ⟠ defidad.eth</td>\n      <td>DeFi_Dad</td>\n      <td>⟠ DeFi super-user / educator 💫 Partner at @4RC...</td>\n    </tr>\n    <tr>\n      <th>3</th>\n      <td>The DeFi Edge 🗡️</td>\n      <td>thedefiedge</td>\n      <td>Breaking down how you can become a more profit...</td>\n    </tr>\n    <tr>\n      <th>4</th>\n      <td>DeFi Airdrops 🦇🔊</td>\n      <td>defi_airdrops</td>\n      <td>Never miss any DeFi airdrop again! by @cryptot...</td>\n    </tr>\n    <tr>\n      <th>...</th>\n      <td>...</td>\n      <td>...</td>\n      <td>...</td>\n    </tr>\n    <tr>\n      <th>395</th>\n      <td>SuperchiefGalleryNFT</td>\n      <td>SuperchiefNFT</td>\n      <td>World's 1st IRL NFT Gallery - located in NYC &amp;...</td>\n    </tr>\n    <tr>\n      <th>396</th>\n      <td>NFTBoxes</td>\n      <td>nftboxes</td>\n      <td>NFT Monthly Subcription service founded by @Pr...</td>\n    </tr>\n    <tr>\n      <th>397</th>\n      <td>GOKU_NFT</td>\n      <td>goku_nft</td>\n      <td>artist. photographer. discord building + secur...</td>\n    </tr>\n    <tr>\n      <th>398</th>\n      <td>NFT Protocol (NFT.org)</td>\n      <td>NFT_Protocol</td>\n      <td>The decentralized NFT trading protocol. $NFT #...</td>\n    </tr>\n    <tr>\n      <th>399</th>\n      <td>RickyODonnell79 | NFTLions 🦁 NFTLionCubs 🦁 🍼</td>\n      <td>RickyODonnell79</td>\n      <td>Cancer Survivor, Loving Dad, NFT Collector &amp; C...</td>\n    </tr>\n  </tbody>\n</table>\n<p>400 rows × 3 columns</p>\n</div>"
     },
     "execution_count": 27,
     "metadata": {},
     "output_type": "execute_result"
    }
   ],
   "source": [
    "df"
   ],
   "metadata": {
    "collapsed": false,
    "pycharm": {
     "name": "#%%\n"
    }
   }
  },
  {
   "cell_type": "code",
   "execution_count": 28,
   "outputs": [],
   "source": [
    "df.to_csv('crypto_data_abhi.csv', index=False)"
   ],
   "metadata": {
    "collapsed": false,
    "pycharm": {
     "name": "#%%\n"
    }
   }
  },
  {
   "cell_type": "code",
   "execution_count": null,
   "outputs": [],
   "source": [],
   "metadata": {
    "collapsed": false,
    "pycharm": {
     "name": "#%%\n"
    }
   }
  }
 ],
 "metadata": {
  "kernelspec": {
   "display_name": "Python 3",
   "language": "python",
   "name": "python3"
  },
  "language_info": {
   "codemirror_mode": {
    "name": "ipython",
    "version": 2
   },
   "file_extension": ".py",
   "mimetype": "text/x-python",
   "name": "python",
   "nbconvert_exporter": "python",
   "pygments_lexer": "ipython2",
   "version": "2.7.6"
  }
 },
 "nbformat": 4,
 "nbformat_minor": 0
}